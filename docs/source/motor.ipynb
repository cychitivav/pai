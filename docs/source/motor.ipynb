{
 "cells": [
  {
   "attachments": {},
   "cell_type": "markdown",
   "metadata": {},
   "source": [
    "# Motor selection\n",
    "Once the wheels are selected, the motors can be selected. The motors are selected based on the torque required to move the robot. Supposing the robot is moving on a slope:\n",
    "\n",
    "<div align=\"center\">\n",
    "    <img src=\"https://github.com/cychitivav/pai/assets/30636259/28849f49-a775-4ba7-9728-4ea0b9911272\" alt=\"fbd wheel\" width=\"400\"/>\n",
    "</div>\n",
    "\n",
    "Supposing that the friction is enough to keep the robot from sliding down the slope, we can get:\n",
    "\n",
    "$$\n",
    "\\begin{align*}\n",
    "    \\Sigma F_y &= m\\cdot a \\sin{\\theta} \\\\\n",
    "    N\\cos{\\theta} + f_r\\sin{\\theta} - W &= m\\cdot a \\sin{\\theta} \\\\\n",
    "    N\\cos{\\theta} + f_r\\sin{\\theta} &= m(a \\sin{\\theta} + g)\n",
    "\\end{align*}\n",
    "$$\n",
    "\n",
    "$$\n",
    "\\begin{align*}\n",
    "    \\Sigma F_x &= m\\cdot a \\cos{\\theta} \\\\\n",
    "    f_r\\cos{\\theta} - N\\sin{\\theta} &= m\\cdot a \\cos{\\theta}\n",
    "\\end{align*}\n",
    "$$\n",
    "\n",
    "$$\n",
    "\\begin{align*}\n",
    "    \\Sigma M &= -I\\cdot \\alpha \\\\\n",
    "    r\\cdot f_r - \\tau &= -I\\cdot \\alpha \\\\\n",
    "    \\tau &= r\\cdot f_r + I\\cdot \\alpha\n",
    "\\end{align*}\n",
    "$$\n",
    "\n",
    "$$\n",
    "\\begin{align*}\n",
    "    \\Sigma M_{f} &= -m\\cdot \\frac{a}{r} \\\\\n",
    "    r\\sin{\\theta}\\cdot W - \\tau &= -m\\cdot \\frac{a}{r} \\\\\n",
    "    \\tau &= r\\sin{\\theta}\\cdot m\\cdot g + m\\cdot a\\cdot r\n",
    "\\end{align*}\n",
    "$$\n",
    "\n",
    "where $m$ is the half of the mass of the robot (assuming that the worst case scenario is when the robot is on two wheel)\n",
    "\n",
    "Solving for $\\tau$:\n",
    "\n",
    "$$\n",
    "\\tau = m\\cdot r\\cdot (g\\sin{\\theta} + a\\cos{\\theta} + \\frac{a}{r})\n",
    "$$\n",
    "\n",
    "$$\n",
    "\\tau = m\\cdot r\\cdot (g\\sin{\\theta} + a)\n",
    "$$\n"
   ]
  },
  {
   "attachments": {},
   "cell_type": "markdown",
   "metadata": {},
   "source": [
    "With these equations, it is possible to define the accelerations from a velocity profile. Assuming a trapezoidal velocity profile, with a cruise velocity of $v_c$ and a time to reach the cruise velocity of $t_c$, the acceleration can be calculated as:\n",
    "\n",
    "$$\n",
    "\\begin{align*}\n",
    "    v_c &= a\\cdot t_c \\\\\n",
    "    a &= \\frac{v_c}{t_c}\n",
    "\\end{align*}\n",
    "$$\n",
    "\n",
    "This cruise velocity can be calculated using the mean angular velocity of comercial motors.\n",
    "\n",
    "$$\n",
    "\\begin{align*}\n",
    "    \\omega &= \\frac{v}{r} \\\\\n",
    "    v_c &= \\omega\\cdot r\n",
    "\\end{align*}\n",
    "$$\n",
    "\n",
    "With these equations, the torque required to move the robot can be calculated in function of the $\\theta$ angle:"
   ]
  },
  {
   "cell_type": "code",
   "execution_count": 4,
   "metadata": {},
   "outputs": [],
   "source": [
    "import numpy as np\n",
    "import matplotlib.pyplot as plt\n",
    "\n",
    "# Constants\n",
    "r = 5 * 0.0254 # m\n",
    "m = 35 / 2 # kg\n",
    "g = 9.81 # m/s^2\n",
    "mr = 1.5 # kg"
   ]
  },
  {
   "cell_type": "code",
   "execution_count": 5,
   "metadata": {},
   "outputs": [],
   "source": [
    "# Parameters\n",
    "wc = 160 * 2 * np.pi / 60 # rad/s\n",
    "tc = 10 # s"
   ]
  },
  {
   "attachments": {},
   "cell_type": "markdown",
   "metadata": {},
   "source": [
    "### Calculations"
   ]
  },
  {
   "cell_type": "code",
   "execution_count": 6,
   "metadata": {},
   "outputs": [
    {
     "data": {
      "image/png": "[encoded data removed]",
      "text/plain": [
       "<Figure size 640x480 with 1 Axes>"
      ]
     },
     "metadata": {},
     "output_type": "display_data"
    }
   ],
   "source": [
    "vc = wc * r\n",
    "a = vc / tc\n",
    "\n",
    "I = 0.5 * mr * r**2\n",
    "alpha = a / r\n",
    "\n",
    "# Theta vector\n",
    "theta = np.linspace(0, np.deg2rad(25), 100)\n",
    "\n",
    "# Torque vector\n",
    "tau = m * r * (g*np.sin(theta) + a)\n",
    "\n",
    "tau2 = []\n",
    "for th in theta:\n",
    "    A = np.array([[np.cos(th), np.sin(th)],\n",
    "                  [-np.sin(th), np.cos(th)]])\n",
    "    B = np.array([[m*(a*np.sin(th) + g)],\n",
    "                  [m*a*np.cos(th)]])\n",
    "\n",
    "    # Solve\n",
    "    x = np.linalg.solve(A, B)\n",
    "    tau2.append(r*x[1]+I*alpha)\n",
    "\n",
    "# Plot\n",
    "plt.plot(np.rad2deg(theta), tau)\n",
    "plt.plot(np.rad2deg(theta), tau2)\n",
    "plt.xlabel(r'$\\theta$ (rad)')\n",
    "plt.ylabel(r'$\\tau$ (Nm)')\n",
    "plt.grid()\n",
    "plt.show()\n"
   ]
  }
 ],
 "metadata": {
  "kernelspec": {
   "display_name": "Python 3",
   "language": "python",
   "name": "python3"
  },
  "language_info": {
   "codemirror_mode": {
    "name": "ipython",
    "version": 3
   },
   "file_extension": ".py",
   "mimetype": "text/x-python",
   "name": "python",
   "nbconvert_exporter": "python",
   "pygments_lexer": "ipython3",
   "version": "3.10.6"
  },
  "orig_nbformat": 4
 },
 "nbformat": 4,
 "nbformat_minor": 2
}
