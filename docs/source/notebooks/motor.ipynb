{
 "cells": [
  {
   "attachments": {},
   "cell_type": "markdown",
   "metadata": {},
   "source": [
    "# Motor selection\n",
    "Once the wheels are selected, the motors can be selected. The motors are selected based on the torque required to move the robot. Supposing the robot is moving on a slope:\n",
    "\n",
    "<div align=\"center\">\n",
    "    <img src=\"https://github.com/cychitivav/pai/assets/30636259/28849f49-a775-4ba7-9728-4ea0b9911272\" alt=\"fbd wheel\" width=\"400\"/>\n",
    "</div>\n",
    "\n",
    "Supposing that the friction is enough to keep the robot from sliding down the slope, we can get:\n",
    "\n",
    "$$\n",
    "\\begin{align*}\n",
    "    \\Sigma M_{f} &= -r(ma) - I\\alpha \\\\\n",
    "    Wr\\sin{\\theta} - \\tau &= -r(ma) - I\\frac{a}{r} \\\\\n",
    "    (mg)r\\sin{\\theta} - \\tau &= -r(ma) - I\\frac{a}{r}\n",
    "\\end{align*}\n",
    "$$\n",
    "\n",
    "where $m$ is the half of the mass of the robot (assuming that the worst case scenario is when the robot is on two wheel)\n",
    "\n",
    "Solving for $\\tau$:\n",
    "\n",
    "$$\n",
    "\\tau = mr(g\\sin{\\theta} + a) + I\\frac{a}{r}\n",
    "$$\n"
   ]
  },
  {
   "attachments": {},
   "cell_type": "markdown",
   "metadata": {},
   "source": [
    "With these equations, it is possible to define the accelerations from a velocity profile. Assuming a trapezoidal velocity profile, with a cruise velocity of $v_c$ and a time to reach the cruise velocity of $t_c$, the acceleration can be calculated as:\n",
    "\n",
    "$$\n",
    "\\begin{align*}\n",
    "    v_c &= a\\cdot t_c \\\\\n",
    "    a &= \\frac{v_c}{t_c}\n",
    "\\end{align*}\n",
    "$$\n",
    "\n",
    "This cruise velocity can be calculated using the mean angular velocity of comercial motors ($160\\ rpm$).\n",
    "\n",
    "$$\n",
    "\\begin{align*}\n",
    "    \\omega &= \\frac{v}{r} \\\\\n",
    "    v_c &= \\omega\\cdot r\n",
    "\\end{align*}\n",
    "$$\n",
    "\n",
    "With these equations, the torque required to move the robot can be calculated in function of the $\\theta$ angle:"
   ]
  },
  {
   "cell_type": "code",
   "execution_count": 13,
   "metadata": {},
   "outputs": [],
   "source": [
    "import numpy as np\n",
    "import matplotlib.pyplot as plt\n",
    "\n",
    "# Parameters\n",
    "wc = 160 * 2 * np.pi / 60 # rad/s\n",
    "tc = 10 # s\n",
    "m = 30 / 2 # kg\n",
    "\n",
    "# Constants\n",
    "r = 5 * 0.0254 # m\n",
    "g = 9.81 # m/s^2\n",
    "mr = 1 # kg"
   ]
  },
  {
   "attachments": {},
   "cell_type": "markdown",
   "metadata": {},
   "source": [
    "### Calculations"
   ]
  },
  {
   "cell_type": "code",
   "execution_count": 14,
   "metadata": {},
   "outputs": [
    {
     "data": {
      "image/png": "[encoded data removed]",
      "text/plain": [
       "<Figure size 640x480 with 1 Axes>"
      ]
     },
     "metadata": {},
     "output_type": "display_data"
    }
   ],
   "source": [
    "vc = wc * r\n",
    "a = vc / tc\n",
    "\n",
    "I = 0.5 * mr * r**2 + mr * r**2 # Parallel axis theorem\n",
    "alpha = a / r\n",
    "\n",
    "# Theta vector\n",
    "theta = np.linspace(0, np.deg2rad(30), 100)\n",
    "\n",
    "# Torque vector\n",
    "tau = m * r * (g*np.sin(theta) + a) + I * alpha\n",
    "\n",
    "# Plot\n",
    "plt.plot(np.rad2deg(theta), tau)\n",
    "plt.xlabel(r'$\\theta$ (deg)')\n",
    "plt.ylabel(r'$\\tau$ (Nm)')\n",
    "plt.grid()\n",
    "plt.show()\n"
   ]
  },
  {
   "attachments": {},
   "cell_type": "markdown",
   "metadata": {},
   "source": [
    "## Maximum step or obstacle\n",
    "The maximum step or obstacle that the robot can climb is calculated using the previous equations. Climbing a step is equivalent to climbing a slope, so the equations are the same. \n",
    "\n",
    "<div align=\"center\">\n",
    "    <img src=\"https://github.com/cychitivav/pai/assets/30636259/899c85f1-1dea-4e2d-81cc-a8c5c23c445d\" alt=\"wheel step\" width=\"300\"/>\n",
    "</div>\n",
    "\n",
    "\n",
    "The maximum step is calculated using the maximum torque of the motor this value is defined using the mean torque for comercial motors ($4\\ Nm$). And finally, to calculate the maximum step:\n",
    "\n",
    "<div align=\"center\">\n",
    "    <img src=\"https://github.com/cychitivav/pai/assets/30636259/f53b6637-353f-4beb-96b7-da17b0a10a78\" alt=\"wheel step\" width=\"300\"/>\n",
    "</div>\n",
    "\n",
    "$$\n",
    "h = r(1-\\cos{\\theta}) \n",
    "$$\n"
   ]
  },
  {
   "cell_type": "code",
   "execution_count": 15,
   "metadata": {},
   "outputs": [
    {
     "name": "stdout",
     "output_type": "stream",
     "text": [
      "theta = 12.424242424242424°, h = 0.0029741705536190086 m\n"
     ]
    }
   ],
   "source": [
    "tau_max = 4 # Nm\n",
    "tau = m * r * g * np.sin(theta)\n",
    "theta_max = theta[np.where(tau >= tau_max)[0][0]]\n",
    "\n",
    "print('theta = {}°, h = {} m'.format(np.rad2deg(theta_max), r*(1-np.cos(theta_max))))"
   ]
  }
 ],
 "metadata": {
  "kernelspec": {
   "display_name": "Python 3",
   "language": "python",
   "name": "python3"
  },
  "language_info": {
   "codemirror_mode": {
    "name": "ipython",
    "version": 3
   },
   "file_extension": ".py",
   "mimetype": "text/x-python",
   "name": "python",
   "nbconvert_exporter": "python",
   "pygments_lexer": "ipython3",
   "version": "3.10.6"
  },
  "orig_nbformat": 4
 },
 "nbformat": 4,
 "nbformat_minor": 2
}
